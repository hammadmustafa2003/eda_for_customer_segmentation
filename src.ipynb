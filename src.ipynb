{
 "cells": [
  {
   "cell_type": "code",
   "execution_count": 1,
   "metadata": {},
   "outputs": [],
   "source": [
    "import pandas as pd\n",
    "import random"
   ]
  },
  {
   "cell_type": "code",
   "execution_count": 2,
   "metadata": {},
   "outputs": [],
   "source": [
    "\n",
    "customer_data = {\n",
    "    \"CustomerID\": [],\n",
    "    \"Age\": [],\n",
    "    \"Gender\": [],\n",
    "    \"MaritalStatus\": [],\n",
    "    \"AnnualIncome (USD)\": [],\n",
    "    \"TotalPurchases\": [],\n",
    "    \"PreferredCategory\": []\n",
    "}"
   ]
  },
  {
   "cell_type": "code",
   "execution_count": 3,
   "metadata": {},
   "outputs": [
    {
     "name": "stdout",
     "output_type": "stream",
     "text": [
      "   CustomerID  Age  Gender MaritalStatus  AnnualIncome (USD)  TotalPurchases  \\\n",
      "0        1000   35    Male      Divorced               86937               7   \n",
      "1        1001   26    Male        Single               59130              24   \n",
      "2        1002   63    Male        Single               56043              17   \n",
      "3        1003   48  Female        Single               63208              18   \n",
      "4        1004   49    Male      Divorced               81484              14   \n",
      "\n",
      "  PreferredCategory  \n",
      "0        Appliances  \n",
      "1       Electronics  \n",
      "2       Electronics  \n",
      "3        Appliances  \n",
      "4        Appliances  \n"
     ]
    }
   ],
   "source": [
    "\n",
    "for i in range(500):\n",
    "    customer_data[\"CustomerID\"].append(1000 + i)\n",
    "    customer_data[\"Age\"].append(random.randint(18, 65))\n",
    "    customer_data[\"Gender\"].append(random.choice([\"Male\", \"Female\"]))\n",
    "    customer_data[\"MaritalStatus\"].append(random.choice([\"Married\", \"Single\", \"Divorced\"]))\n",
    "    customer_data[\"AnnualIncome (USD)\"].append(random.randint(40000, 100000))\n",
    "    customer_data[\"TotalPurchases\"].append(random.randint(5, 30))\n",
    "    customer_data[\"PreferredCategory\"].append(random.choice([\"Electronics\", \"Appliances\"]))\n",
    "\n",
    "df = pd.DataFrame(customer_data)\n",
    "print(df.head())\n"
   ]
  }
 ],
 "metadata": {
  "kernelspec": {
   "display_name": "Python 3",
   "language": "python",
   "name": "python3"
  },
  "language_info": {
   "codemirror_mode": {
    "name": "ipython",
    "version": 3
   },
   "file_extension": ".py",
   "mimetype": "text/x-python",
   "name": "python",
   "nbconvert_exporter": "python",
   "pygments_lexer": "ipython3",
   "version": "3.11.4"
  },
  "orig_nbformat": 4
 },
 "nbformat": 4,
 "nbformat_minor": 2
}
