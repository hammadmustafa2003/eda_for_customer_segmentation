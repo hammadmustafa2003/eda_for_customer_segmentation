{
 "cells": [
  {
   "cell_type": "code",
   "execution_count": 1,
   "metadata": {},
   "outputs": [],
   "source": [
    "import pandas as pd"
   ]
  },
  {
   "cell_type": "code",
   "execution_count": 3,
   "metadata": {},
   "outputs": [],
   "source": [
    "customer_df = pd.read_csv('./customer_segmentation_eda.csv')\n",
    "\n",
    "# Handling Missing Values: Fill missing values with column means\n",
    "customer_df.dropna(inplace=True)\n",
    "\n",
    "# Handling Duplicates: Remove duplicate rows\n",
    "customer_df.drop_duplicates(keep='first', inplace=True)\n",
    "\n",
    "# Handling Inconsistencies: No specific inconsistencies are mentioned in the initial dataset\n",
    "\n",
    "# Export the cleaned DataFrame to a CSV file\n",
    "csv_file_path = \"cleaned_customer_data.csv\"\n",
    "customer_df.to_csv(csv_file_path, index=False)\n"
   ]
  }
 ],
 "metadata": {
  "kernelspec": {
   "display_name": "Python 3",
   "language": "python",
   "name": "python3"
  },
  "language_info": {
   "codemirror_mode": {
    "name": "ipython",
    "version": 3
   },
   "file_extension": ".py",
   "mimetype": "text/x-python",
   "name": "python",
   "nbconvert_exporter": "python",
   "pygments_lexer": "ipython3",
   "version": "3.11.4"
  },
  "orig_nbformat": 4
 },
 "nbformat": 4,
 "nbformat_minor": 2
}
