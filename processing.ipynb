{
 "cells": [
  {
   "cell_type": "code",
   "execution_count": 3,
   "metadata": {},
   "outputs": [],
   "source": [
    "import pandas as pd\n",
    "from sklearn.preprocessing import LabelEncoder\n",
    "from sklearn.preprocessing import MinMaxScaler"
   ]
  },
  {
   "cell_type": "code",
   "execution_count": 8,
   "metadata": {},
   "outputs": [],
   "source": [
    "csv_file_path = './cleaned_customer_data.csv'\n",
    "customer_df = pd.read_csv(csv_file_path)\n"
   ]
  },
  {
   "cell_type": "code",
   "execution_count": 9,
   "metadata": {},
   "outputs": [
    {
     "data": {
      "text/html": [
       "<div>\n",
       "<style scoped>\n",
       "    .dataframe tbody tr th:only-of-type {\n",
       "        vertical-align: middle;\n",
       "    }\n",
       "\n",
       "    .dataframe tbody tr th {\n",
       "        vertical-align: top;\n",
       "    }\n",
       "\n",
       "    .dataframe thead th {\n",
       "        text-align: right;\n",
       "    }\n",
       "</style>\n",
       "<table border=\"1\" class=\"dataframe\">\n",
       "  <thead>\n",
       "    <tr style=\"text-align: right;\">\n",
       "      <th></th>\n",
       "      <th>CustomerID</th>\n",
       "      <th>Age</th>\n",
       "      <th>Gender</th>\n",
       "      <th>MaritalStatus</th>\n",
       "      <th>AnnualIncome (USD)</th>\n",
       "      <th>TotalPurchases</th>\n",
       "      <th>PreferredCategory</th>\n",
       "    </tr>\n",
       "  </thead>\n",
       "  <tbody>\n",
       "    <tr>\n",
       "      <th>0</th>\n",
       "      <td>1000</td>\n",
       "      <td>35</td>\n",
       "      <td>Male</td>\n",
       "      <td>Divorced</td>\n",
       "      <td>86937</td>\n",
       "      <td>7</td>\n",
       "      <td>Appliances</td>\n",
       "    </tr>\n",
       "    <tr>\n",
       "      <th>1</th>\n",
       "      <td>1001</td>\n",
       "      <td>26</td>\n",
       "      <td>Male</td>\n",
       "      <td>Single</td>\n",
       "      <td>59130</td>\n",
       "      <td>24</td>\n",
       "      <td>Electronics</td>\n",
       "    </tr>\n",
       "    <tr>\n",
       "      <th>2</th>\n",
       "      <td>1002</td>\n",
       "      <td>63</td>\n",
       "      <td>Male</td>\n",
       "      <td>Single</td>\n",
       "      <td>56043</td>\n",
       "      <td>17</td>\n",
       "      <td>Electronics</td>\n",
       "    </tr>\n",
       "    <tr>\n",
       "      <th>3</th>\n",
       "      <td>1003</td>\n",
       "      <td>48</td>\n",
       "      <td>Female</td>\n",
       "      <td>Single</td>\n",
       "      <td>63208</td>\n",
       "      <td>18</td>\n",
       "      <td>Appliances</td>\n",
       "    </tr>\n",
       "    <tr>\n",
       "      <th>4</th>\n",
       "      <td>1004</td>\n",
       "      <td>49</td>\n",
       "      <td>Male</td>\n",
       "      <td>Divorced</td>\n",
       "      <td>81484</td>\n",
       "      <td>14</td>\n",
       "      <td>Appliances</td>\n",
       "    </tr>\n",
       "  </tbody>\n",
       "</table>\n",
       "</div>"
      ],
      "text/plain": [
       "   CustomerID  Age  Gender MaritalStatus  AnnualIncome (USD)  TotalPurchases  \\\n",
       "0        1000   35    Male      Divorced               86937               7   \n",
       "1        1001   26    Male        Single               59130              24   \n",
       "2        1002   63    Male        Single               56043              17   \n",
       "3        1003   48  Female        Single               63208              18   \n",
       "4        1004   49    Male      Divorced               81484              14   \n",
       "\n",
       "  PreferredCategory  \n",
       "0        Appliances  \n",
       "1       Electronics  \n",
       "2       Electronics  \n",
       "3        Appliances  \n",
       "4        Appliances  "
      ]
     },
     "execution_count": 9,
     "metadata": {},
     "output_type": "execute_result"
    }
   ],
   "source": [
    "customer_df.head()"
   ]
  },
  {
   "cell_type": "code",
   "execution_count": 10,
   "metadata": {},
   "outputs": [
    {
     "name": "stdout",
     "output_type": "stream",
     "text": [
      "<class 'pandas.core.frame.DataFrame'>\n",
      "RangeIndex: 500 entries, 0 to 499\n",
      "Data columns (total 7 columns):\n",
      " #   Column              Non-Null Count  Dtype \n",
      "---  ------              --------------  ----- \n",
      " 0   CustomerID          500 non-null    int64 \n",
      " 1   Age                 500 non-null    int64 \n",
      " 2   Gender              500 non-null    object\n",
      " 3   MaritalStatus       500 non-null    object\n",
      " 4   AnnualIncome (USD)  500 non-null    int64 \n",
      " 5   TotalPurchases      500 non-null    int64 \n",
      " 6   PreferredCategory   500 non-null    object\n",
      "dtypes: int64(4), object(3)\n",
      "memory usage: 27.5+ KB\n"
     ]
    }
   ],
   "source": [
    "customer_df.info()"
   ]
  },
  {
   "cell_type": "code",
   "execution_count": 11,
   "metadata": {},
   "outputs": [],
   "source": [
    "# Handling Missing Values\n",
    "customer_df.dropna(inplace=True)\n",
    "\n",
    "# Handling Duplicates\n",
    "customer_df.drop_duplicates(keep='first', inplace=True)\n",
    "\n",
    "# Scaling numeric columns using Min-Max scaling\n",
    "numeric_columns = [\"Age\", \"AnnualIncome (USD)\", \"TotalPurchases\"]\n",
    "scaler = MinMaxScaler()\n",
    "customer_df[numeric_columns] = scaler.fit_transform(customer_df[numeric_columns])\n",
    "\n",
    "# Encoding Categorical Variables\n",
    "categorical_columns = [\"Gender\", \"MaritalStatus\", \"PreferredCategory\"]\n",
    "label_encoder = LabelEncoder()\n",
    "for column in categorical_columns:\n",
    "    customer_df[column] = label_encoder.fit_transform(customer_df[column])"
   ]
  },
  {
   "cell_type": "code",
   "execution_count": 12,
   "metadata": {},
   "outputs": [
    {
     "name": "stdout",
     "output_type": "stream",
     "text": [
      "<class 'pandas.core.frame.DataFrame'>\n",
      "RangeIndex: 500 entries, 0 to 499\n",
      "Data columns (total 7 columns):\n",
      " #   Column              Non-Null Count  Dtype  \n",
      "---  ------              --------------  -----  \n",
      " 0   CustomerID          500 non-null    int64  \n",
      " 1   Age                 500 non-null    float64\n",
      " 2   Gender              500 non-null    int32  \n",
      " 3   MaritalStatus       500 non-null    int32  \n",
      " 4   AnnualIncome (USD)  500 non-null    float64\n",
      " 5   TotalPurchases      500 non-null    float64\n",
      " 6   PreferredCategory   500 non-null    int32  \n",
      "dtypes: float64(3), int32(3), int64(1)\n",
      "memory usage: 21.6 KB\n"
     ]
    }
   ],
   "source": [
    "customer_df.info()"
   ]
  },
  {
   "cell_type": "code",
   "execution_count": null,
   "metadata": {},
   "outputs": [],
   "source": [
    "# Export the preprocessed DataFrame to a CSV file\n",
    "csv_file_path = \"preprocessed_customer_data.csv\"\n",
    "customer_df.to_csv(csv_file_path, index=False)"
   ]
  }
 ],
 "metadata": {
  "kernelspec": {
   "display_name": "Python 3",
   "language": "python",
   "name": "python3"
  },
  "language_info": {
   "codemirror_mode": {
    "name": "ipython",
    "version": 3
   },
   "file_extension": ".py",
   "mimetype": "text/x-python",
   "name": "python",
   "nbconvert_exporter": "python",
   "pygments_lexer": "ipython3",
   "version": "3.11.4"
  },
  "orig_nbformat": 4
 },
 "nbformat": 4,
 "nbformat_minor": 2
}
